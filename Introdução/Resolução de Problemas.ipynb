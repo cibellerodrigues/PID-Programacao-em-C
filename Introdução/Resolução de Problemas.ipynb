{
 "cells": [
  {
   "cell_type": "markdown",
   "metadata": {},
   "source": [
    "# Resolução de Problemas"
   ]
  },
  {
   "cell_type": "markdown",
   "metadata": {},
   "source": [
    "Independentemente da área de estudo, a ciência da computação trata de solucionar problemas por meio de um computador. Os problemas que iremos solucionar podem vir de qualquer problema do mundo real ou talvez até do mundo abstrato. Para, então, solucionar esses problemas, precisamos ter uma abordagem sistemática padrão."
   ]
  },
  {
   "cell_type": "markdown",
   "metadata": {},
   "source": [
    "Podemos definir 4 passos para solucionar um problema computacional: \n",
    "    1. Entender o problema;\n",
    "    2. Formular um modelo;\n",
    "    3. Desenvolver um algoritmo;\n",
    "    4. Revisar e testar a solução."
   ]
  },
  {
   "cell_type": "markdown",
   "metadata": {},
   "source": [
    "Para compreender os passos, teremos o seguinte problema:\n",
    "\n",
    "Queremos um programa que calcule o enésimo número de Fibonacci. "
   ]
  },
  {
   "cell_type": "markdown",
   "metadata": {},
   "source": [
    "## 1. Entendendo o problema"
   ]
  },
  {
   "cell_type": "markdown",
   "metadata": {},
   "source": [
    "É tolice responder uma pergunta na qual você não entendeu. Portanto, o primeiro passo para resolver qualquer problema é garantir que você entenda o problema que está tentando resolver. Você precisa saber: \n",
    "* Quais dados/informações de entrada estão disponíveis? \n",
    "* O que isso representa? \n",
    "* Tenho tudo que preciso? \n",
    "* Quais dados de saída estou tentando gerar? \n",
    "* O que eu vou ter que calcular? "
   ]
  },
  {
   "cell_type": "markdown",
   "metadata": {},
   "source": [
    "Para solucionar o problema proposto, questionaremos: \n",
    "\n",
    "* O que você precisa? *O n-ésimo número de Fibonacci*.\n",
    "* Como você pode conseguir isso? *Escreva uma função **genérica** para calcular números de Fibonacci para uma determinada entrada*.\n",
    "* Qual tipo de dados representa nossa entrada? *Deve ser um número inteiro*."
   ]
  },
  {
   "cell_type": "markdown",
   "metadata": {},
   "source": [
    "## 2. Formulando um modelo"
   ]
  },
  {
   "cell_type": "markdown",
   "metadata": {},
   "source": [
    "Agora precisamos entender a parte de processamento do problema. Muitos problemas se dividem em problemas menores que requerem algum tipo de computação matemática simples para processar os dados. "
   ]
  },
  {
   "cell_type": "markdown",
   "metadata": {},
   "source": [
    "Para criar um modelo, precisamos entender completamente as informações disponíveis. "
   ]
  },
  {
   "cell_type": "markdown",
   "metadata": {},
   "source": [
    "Para nosso problema, como foi apresentado anteriormente, teremos uma **função** de Fibonacci."
   ]
  },
  {
   "cell_type": "markdown",
   "metadata": {},
   "source": [
    "**Como calcular o e-nésimo Fibonacci?**\n",
    "\n",
    "Em termos matemáticos, a sequência é definida recursivamente pela fórmula abaixo, sendo o primeiro termo $F{1} = 1$: \n",
    "$$F{n} = F{n-1} + F{n-2}$$ e valores iniciais $$F{1} = 1, F{2} = 1.$$"
   ]
  },
  {
   "cell_type": "markdown",
   "metadata": {},
   "source": [
    "O que podemos perceber observando a fórmula? \n",
    "\n",
    "Ora, nós temos que cada termo subsequente corresponde a soma dos dois antecessores. "
   ]
  },
  {
   "cell_type": "markdown",
   "metadata": {},
   "source": [
    "Veja exemplos:\n",
    "\n",
    "Sabemos que, $F(1) = 1, F(2) = 1.$\n",
    "* $F(3) = F(2) + F(1) = 2$\n",
    "\n",
    "* $F(4) = F(3) + F(2) = 3$\n",
    "\n",
    "* $F(5) = F(4) + F(3) = 5$"
   ]
  },
  {
   "cell_type": "markdown",
   "metadata": {},
   "source": [
    "## 3. Desenvolver um algoritmo"
   ]
  },
  {
   "cell_type": "markdown",
   "metadata": {},
   "source": [
    "Agora que entendemos o problema e formulamos um modelo é hora de apresentar um plano preciso do que queremos que o computador faça, ou seja, desenvolver um algoritmo."
   ]
  },
  {
   "cell_type": "markdown",
   "metadata": {},
   "source": [
    "Mas, o que é um **Algortimo?**\n",
    "\n",
    "Um algoritmo pode ser definido como uma sequência precisa de instruções para resolver um problema."
   ]
  },
  {
   "cell_type": "markdown",
   "metadata": {},
   "source": [
    "A partir de agora, que já sabemos o que é um algoritmo, como podemos representa-lo? \n",
    "\n",
    "Há duas representações comumente usadas para um algoritmo, que são: \n",
    "1. **Pseudo-código:** É uma sequência simples e concisa de instruções em Português. Se assemelha com uma receita. Ao aprender a programar, é importante escrever pseudo-códigos pois ajuda a entender claramente o problema que você está tentando solucionar. \n",
    "2. **Fluxograma:** É uma forma gráfica de representar instruções.  "
   ]
  },
  {
   "cell_type": "markdown",
   "metadata": {},
   "source": [
    "Para exemplificar o uso dessas formas de representação de um algoritmo, segue abaixo o exemplo de um algoritmo para solucionar o problema de uma lâmpada queimada."
   ]
  },
  {
   "cell_type": "markdown",
   "metadata": {},
   "source": [
    "**Pseudo-código**\n",
    "1. Se a lâmpada funcionar, vá para o passo 7.\n",
    "2. Verifique se a lâmpada está plugada.\n",
    "3. Se não estiver plugada, pluge a lâmpada.\n",
    "4. Verifique se o bulbo está queimado.\n",
    "5. Se o bulbo estiver queimado, substitua o bulbo.\n",
    "6. Se a lâmpada não funcionar, compre uma nova lâmpada.\n",
    "7. Saia... problema solucionado."
   ]
  },
  {
   "cell_type": "markdown",
   "metadata": {},
   "source": [
    "**Fluxogramas**"
   ]
  },
  {
   "cell_type": "markdown",
   "metadata": {},
   "source": [
    "\n",
    "<img src=\"Lamp.png\" alt=\"Lamp\" width=\"200\"/>"
   ]
  },
  {
   "cell_type": "markdown",
   "metadata": {},
   "source": [
    "Antes de criar o algoritmo do nosso problema, precisamos entender alguns conceitos. "
   ]
  },
  {
   "cell_type": "markdown",
   "metadata": {},
   "source": [
    "Note no exemplo da lâmpada que esse tem um **fluxo alternativo.** Ou seja, temos uma **condição** e a sua veracidade ou falsidade determinará qual passo devemos executar. \n",
    "\n",
    "Voltemos ao nosso exemplo da lâmpada. Vamos pensar, primeiramente, na condição.\n",
    "\n",
    "* Devemos verificar se a lâmpada estava plugada. \n",
    "\n",
    "A lâmpada estava plugada? \n",
    "\n",
    "Observe que a reposta para essa pergunta pode ser **sim** ou **não**. \n",
    "\n",
    "Teremos:\n",
    "\n",
    "1. A lâmpada estava plugada? Verifique se o bulbo está queimado.\n",
    "2. A lâmpada não estava plugada? Plugue a lâmpada.\n",
    "\n",
    "Ou melhor:  \n",
    "\n",
    "Se *a lampada estiver plugada* então\n",
    "\n",
    "    Verifique se o bulbo está queimado.\n",
    "\n",
    "Senão\n",
    "    \n",
    "    Plugue a lâmpada.\n",
    "\n",
    "Fim\n"
   ]
  },
  {
   "cell_type": "markdown",
   "metadata": {},
   "source": [
    "Até aqui, já foi apresentado:\n",
    "1. Sequências\n",
    "2. Condicionais\n",
    "\n",
    "Contudo, ainda faltam alguns conceitos essenciais. \n",
    "\n",
    "Iremos aprender agora sobre **repetição** e **armazenamento.**"
   ]
  },
  {
   "cell_type": "markdown",
   "metadata": {},
   "source": [
    "**Repetição**\n",
    "\n",
    "Em diversas situações cotidianas, precisamos executar uma mesma ação até conquistarmos nosso objetivo. Como, por exemplo, se quisermos chegar ao topo de uma escada.\n",
    "\n",
    "Note que, iriamos subir degrau por degrau até o topo. Que ação repetiriamos? Subir, certo? Então, se pensarmos em um algoritmo, seria: \n",
    "\n",
    "Enquanto não chegar ao topo faça\n",
    "        \n",
    "        Suba um degrau\n",
    "     \n",
    "Fim\n",
    "\n",
    "Mas, podemos também saber quantos degraus tem até o topo, certo? Vamos supor que temos que subir 10 degraus.\n",
    "Então, nossa condição seria: \n",
    "\n",
    "Repita 10 vezes\n",
    "\n",
    "    Suba um degrau\n",
    "    \n",
    "Fim\n",
    "\n",
    "Mas, em problemas computacionais, isso se aplica? Sim! Muitos problemas computacionais podem serem resolvidos utilizando o que chamamos de *laços de repetição*. \n"
   ]
  },
  {
   "cell_type": "markdown",
   "metadata": {},
   "source": [
    "**Armazenamento**\n",
    "\n",
    "Reflita sobre o fato de criar anotações com, por exemplo, suas senhas. Você faz isso por saber que posteriormente irá precisar e pode não lembrar, correto? \n",
    "\n",
    "Em problemas computacionais, necessitamos utilizar instruções para salvar na memória do computador informações que iremos precisar utilizar.\n",
    "\n",
    "Podemos representar o armazenamento de uma informação utilizando uma **variável**. Por exemplo:\n",
    "\n",
    "X <- 10\n",
    "\n",
    "Nesse exemplo, **X** é nossa variável e podemos ler essa instrução como: \n",
    "\n",
    "X recebe 10. Ou seja, no espaço de memória reservado para X, insira 10. "
   ]
  },
  {
   "cell_type": "markdown",
   "metadata": {},
   "source": [
    "Agora que entendemos esses conceitos, podemos apresentar um algoritmo para nosso problema dos números de Fibonnaci."
   ]
  },
  {
   "cell_type": "markdown",
   "metadata": {},
   "source": [
    "**Algoritmo Fibonacci**\n",
    "\n",
    "    a, b, n, contador, soma         //Nossas váriaveis\n",
    "    \n",
    "    n <- 5                          // Queremos calcular F(5)\n",
    "    \n",
    "    a <- 1                          //F(1) = 1 e F(2) = 1. \n",
    "    \n",
    "    b <- 1                          //a e b são nossos dois primerios antecessores conhecidos.\n",
    "    \n",
    "    contador = 2                    // Só precisamos calcular a partir do 3 Fibonacci, certo?\n",
    "    \n",
    "    Enquanto (contador < n) faça    //Laço que vai se repetir enquanto contador for diferente de 5\n",
    "        \n",
    "        soma <- a + b               // Cada termo subsequente é a soma de seus dois antecessores\n",
    "        \n",
    "        a <- b                      // Atualizando antecessor \n",
    "        \n",
    "        b <- s                      // Atualizando antecessor\n",
    "        \n",
    "        contador = contador + 1     // aumentando o contador em 1. \n",
    "    \n",
    "    Fim                             // Chegará ao fim quando contador for igual a 5.\n",
    "   \n",
    "\n",
    "    Imprima b                      // O conteudo da variavel b será 5, no nosso caso, pois queremos F(5).\n"
   ]
  },
  {
   "cell_type": "markdown",
   "metadata": {},
   "source": [
    "## 4. Revisar e testar a solução"
   ]
  },
  {
   "cell_type": "markdown",
   "metadata": {},
   "source": [
    "Depois de desenvolver o algoritmo, você precisa garantir que ele resolve o problema que se destinava a resolver e que as soluções estão corretas."
   ]
  },
  {
   "cell_type": "markdown",
   "metadata": {},
   "source": [
    "**Teste de mesa**\n",
    "\n",
    "O teste de mesa simula a execução de um algoritmo sem utilizar um computador, empregando apenas \"papel e caneta\".\n",
    "\n",
    "Passos para realizar um teste de mesa: \n",
    "\n",
    "1. Identifique as variáveis envolvidas no seu algoritmo\n",
    "\n",
    "\n",
    "2. Crie uma tabela com linhas e colunas, em que: \n",
    "    * Cada coluna representará uma variável a ser \"observada\"\n",
    "    \n",
    "    * Cada linha representará o valor contido na variável"
   ]
  },
  {
   "cell_type": "markdown",
   "metadata": {},
   "source": [
    "Vamos então, finalmente, verificar se nosso algoritmo está funcionando como desejado. Abaixo, criaremos um teste de mesa para nosso problema. Queremos $F(5)$ e sabemos que $F(5) = 5$. Ou seja, ao final da execução do algoritmo, quando nosso contador chegar a 5, deveremos ter $b=5$.  "
   ]
  },
  {
   "cell_type": "markdown",
   "metadata": {},
   "source": [
    "| n | a | b | soma | contador |                      |\n",
    "|---|---|---|------|----------|----------------------|\n",
    "| 5 | 1 | 1 | ?    |    2     | inicio do algoritmo  |\n",
    "| - | 1 | 2 | 2    |    3     | 1º execução do laço  |\n",
    "| - | 2 | 3 | 3    |    4     | 2º execução do laço  |\n",
    "| - | 3 | 5 | 5    |    5     | 3º execução do laço  |"
   ]
  },
  {
   "cell_type": "code",
   "execution_count": null,
   "metadata": {},
   "outputs": [],
   "source": []
  }
 ],
 "metadata": {
  "kernelspec": {
   "display_name": "C",
   "language": "c",
   "name": "c"
  },
  "language_info": {
   "file_extension": ".c",
   "mimetype": "text/plain",
   "name": "c"
  }
 },
 "nbformat": 4,
 "nbformat_minor": 2
}
