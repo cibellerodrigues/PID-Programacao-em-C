{
 "cells": [
  {
   "cell_type": "markdown",
   "metadata": {},
   "source": [
    "# Resolução de Problemas"
   ]
  },
  {
   "cell_type": "markdown",
   "metadata": {},
   "source": [
    "Independentemente da área de estudo, a ciência da computação trata de solucionar problemas por meio de um computador. Os problemas que iremos solucionar podem vir de qualquer problema do mundo real ou talvez até do mundo abstrato. Para, então, solucionar esses problemas, precisamos ter uma abordagem sistemática padrão."
   ]
  },
  {
   "cell_type": "markdown",
   "metadata": {},
   "source": [
    "Podemos definir 4 passos para solucionar um problema computacional: \n",
    "    1. Entender o problema;\n",
    "    2. Formular um modelo;\n",
    "    3. Desenvolver um algoritmo;\n",
    "    4. Revisar e testar a solução."
   ]
  },
  {
   "cell_type": "markdown",
   "metadata": {},
   "source": [
    "Para compreender os passos, teremos o seguinte problema:\n",
    "\n",
    "Queremos um programa que calcule o enésimo número de Fibonacci. "
   ]
  },
  {
   "cell_type": "markdown",
   "metadata": {},
   "source": [
    "## 1. Entendendo o problema"
   ]
  },
  {
   "cell_type": "markdown",
   "metadata": {},
   "source": [
    "É tolice responder uma pergunta na qual você não entendeu. Portanto, o primeiro passo para resolver qualquer problema é garantir que você entenda o problema que está tentando resolver. Você precisa saber: \n",
    "* Quais dados/informações de entrada estão disponíveis? \n",
    "* O que isso representa? \n",
    "* Tenho tudo que preciso? \n",
    "* Quais dados de saída estou tentando gerar? \n",
    "* O que eu vou ter que calcular? "
   ]
  },
  {
   "cell_type": "markdown",
   "metadata": {},
   "source": [
    "Para solucionar o problema proposto, questionaremos: \n",
    "\n",
    "* O que você precisa? *O n-ésimo número de Fibonacci*.\n",
    "* Como você pode conseguir isso? *Escreva uma função **genérica** para calcular números de Fibonacci para uma determinada entrada*.\n",
    "* Qual tipo de dados representa nossa entrada? *Deve ser um número inteiro*."
   ]
  },
  {
   "cell_type": "markdown",
   "metadata": {},
   "source": [
    "## 2. Formulando um modelo"
   ]
  },
  {
   "cell_type": "markdown",
   "metadata": {},
   "source": [
    "Agora precisamos entender a parte de processamento do problema. Muitos problemas se dividem em problemas menores que requerem algum tipo de computação matemática simples para processar os dados. "
   ]
  },
  {
   "cell_type": "markdown",
   "metadata": {},
   "source": [
    "Para criar um modelo, precisamos entender completamente as informações disponíveis. "
   ]
  },
  {
   "cell_type": "markdown",
   "metadata": {},
   "source": [
    "Para nosso problema, como foi apresentado anteriormente, teremos uma **função** de Fibonacci."
   ]
  },
  {
   "cell_type": "markdown",
   "metadata": {},
   "source": [
    "**Como calcular o e-nésimo Fibonacci?**\n",
    "\n",
    "Em termos matemáticos, a sequência é definida recursivamente pela fórmula abaixo, sendo o primeiro termo $F\\scriptsize{1} \\small= 1$: \n",
    "$$F\\scriptsize{n} \\small= F\\scriptsize{n-1} \\small{ + F } \\scriptsize{n-2}$$ e valores iniciais $$F\\scriptsize{1} \\small= 1, F\\scriptsize{2} \\small= 1.$$"
   ]
  },
  {
   "cell_type": "markdown",
   "metadata": {},
   "source": [
    "O que podemos perceber observando a fórmula? \n",
    "\n",
    "Ora, nós temos que cada termo subsequente corresponde a soma dos dois antecessores. "
   ]
  },
  {
   "cell_type": "markdown",
   "metadata": {},
   "source": [
    "Veja exemplos:\n",
    "\n",
    "Sabemos que, $F(1) = 1, F(2) = 1.$\n",
    "* $F(3) = F(2) + F(1) = 2$\n",
    "\n",
    "* $F(4) = F(3) + F(2) = 3$\n",
    "\n",
    "* $F(5) = F(4) + F(3) = 5$"
   ]
  },
  {
   "cell_type": "markdown",
   "metadata": {},
   "source": [
    "## 3. Desenvolver um algoritmo"
   ]
  },
  {
   "cell_type": "markdown",
   "metadata": {},
   "source": [
    "Agora que entendemos o problema e formulamos um modelo é hora de apresentar um plano preciso do que queremos que o computador faça, ou seja, desenvolver um algoritmo."
   ]
  },
  {
   "cell_type": "markdown",
   "metadata": {},
   "source": [
    "Mas, o que é um **Algortimo?**\n",
    "\n",
    "Um algoritmo pode ser definido como uma sequência precisa de instruções para resolver um problema."
   ]
  },
  {
   "cell_type": "markdown",
   "metadata": {},
   "source": [
    "A partir de agora, que já sabemos o que é um algoritmo, como podemos representa-lo? \n",
    "\n",
    "Há duas representações comumente usadas para um algoritmo, que são: \n",
    "1. **Pseudo-código:** É uma sequência simples e concisa de instruções em Português. Se assemelha com uma receita. Ao aprender a programar, é importante escrever pseudo-códigos pois ajuda a entender claramente o problema que você está tentando solucionar. \n",
    "2. **Fluxograma:** É uma forma gráfica de representar instruções.  "
   ]
  },
  {
   "cell_type": "markdown",
   "metadata": {},
   "source": [
    "Para exemplificar o uso dessas formas de representação de um algoritmo, segue abaixo o exemplo de um algoritmo para solucionar o problema de uma lâmpada queimada."
   ]
  },
  {
   "cell_type": "markdown",
   "metadata": {},
   "source": [
    "**Pseudo-código**\n",
    "1. Se a lâmpada funcionar, vá para o passo 7.\n",
    "2. Verifique se a lâmpada está plugada.\n",
    "3. Se não estiver plugada, pluge a lâmpada.\n",
    "4. Verifique se o bulbo está queimado.\n",
    "5. Se o bulbo estiver queimado, substitua o bulbo.\n",
    "6. Se a lâmpada não funcionar, compre uma nova lâmpada.\n",
    "7. Saia... problema solucionado."
   ]
  },
  {
   "cell_type": "markdown",
   "metadata": {},
   "source": [
    "**Fluxogramas**"
   ]
  },
  {
   "cell_type": "markdown",
   "metadata": {},
   "source": [
    "\n",
    "<img src=\"Lamp.png\" alt=\"Lamp\" width=\"200\"/>"
   ]
  },
  {
   "cell_type": "markdown",
   "metadata": {},
   "source": [
    "Antes de abordar nosso problema, precisamos entender alguns conceitos. "
   ]
  },
  {
   "cell_type": "markdown",
   "metadata": {},
   "source": [
    "Note no exemplo da lâmpada que esse tem um **fluxo alternativo.** Ou seja, temos uma **condição** e a sua veracidade ou falsidade determinará qual passo devemos executar. \n",
    "\n",
    "Voltemos ao nosso exemplo da lâmpada. Vamos pensar, primeiramente, na condição.\n",
    "\n",
    "* Devemos verificar se a lâmpada estava plugada. \n",
    "\n",
    "A lâmpada estava plugada? \n",
    "\n",
    "Observe que a reposta para essa pergunta pode ser **sim** ou **não**. \n",
    "\n",
    "Teremos:\n",
    "\n",
    "1. A lâmpada estava plugada? Verifique se o bulbo está queimado.\n",
    "2. A lâmpada não estava plugada? Plugue a lâmpada.\n",
    "\n",
    "Ou melhor:  \n",
    "\n",
    "Se *a lampada estiver plugada* então\n",
    "\n",
    "    Verifique se o bulbo está queimado.\n",
    "\n",
    "Senão\n",
    "    \n",
    "    Plugue a lâmpada.\n",
    "\n",
    "Fim\n"
   ]
  },
  {
   "cell_type": "markdown",
   "metadata": {},
   "source": [
    "## 4. Revisar e testar a solução"
   ]
  },
  {
   "cell_type": "markdown",
   "metadata": {},
   "source": []
  },
  {
   "cell_type": "markdown",
   "metadata": {},
   "source": []
  }
 ],
 "metadata": {
  "kernelspec": {
   "display_name": "C",
   "language": "c",
   "name": "c"
  },
  "language_info": {
   "file_extension": ".c",
   "mimetype": "text/plain",
   "name": "c"
  }
 },
 "nbformat": 4,
 "nbformat_minor": 2
}
